{
 "cells": [
  {
   "cell_type": "code",
   "execution_count": 7,
   "metadata": {},
   "outputs": [],
   "source": [
    "\n",
    "def twoNumbersum(array, targetsum):\n",
    "    nums={}\n",
    "    for num in array:\n",
    "        potencialmatch=targetsum-num\n",
    "        if potencialmatch  in nums:\n",
    "            return(potencialmatch, num)\n",
    "        else:\n",
    "            nums[num]=True\n",
    "    return[]"
   ]
  },
  {
   "cell_type": "code",
   "execution_count": 8,
   "metadata": {},
   "outputs": [
    {
     "data": {
      "text/plain": [
       "(6, 4)"
      ]
     },
     "execution_count": 8,
     "metadata": {},
     "output_type": "execute_result"
    }
   ],
   "source": [
    "array = [6,2,3,4,5]\n",
    "twoNumbersum(array, 10)"
   ]
  },
  {
   "cell_type": "code",
   "execution_count": 12,
   "metadata": {},
   "outputs": [],
   "source": [
    "#0(n) time | 0(n) space\n",
    "def twoNumberSum(array, targetSum):\n",
    "\tfor i in range(len(array)-1):\n",
    "\t\tfirstNum = array[i]\n",
    "\t\tfor j in range(i+1, len(array)):\n",
    "\t\t\tsecondNum=array[j]\n",
    "\t\t\tif firstNum+secondNum==targetSum:\n",
    "\t\t\t\treturn[firstNum, secondNum]\n",
    "\treturn []"
   ]
  },
  {
   "cell_type": "code",
   "execution_count": 13,
   "metadata": {},
   "outputs": [
    {
     "data": {
      "text/plain": [
       "[6, 4]"
      ]
     },
     "execution_count": 13,
     "metadata": {},
     "output_type": "execute_result"
    }
   ],
   "source": [
    "array = [6,2,3,4,5]\n",
    "twoNumberSum(array, 10)"
   ]
  }
 ],
 "metadata": {
  "kernelspec": {
   "display_name": "Python 3",
   "language": "python",
   "name": "python3"
  },
  "language_info": {
   "codemirror_mode": {
    "name": "ipython",
    "version": 3
   },
   "file_extension": ".py",
   "mimetype": "text/x-python",
   "name": "python",
   "nbconvert_exporter": "python",
   "pygments_lexer": "ipython3",
   "version": "3.8.5"
  }
 },
 "nbformat": 4,
 "nbformat_minor": 4
}
