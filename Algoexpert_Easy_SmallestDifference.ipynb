{
 "cells": [
  {
   "cell_type": "code",
   "execution_count": 5,
   "metadata": {},
   "outputs": [],
   "source": [
    "def smallestdifference(arrayone, arraytwo):\n",
    "    arrayone.sort()\n",
    "    arraytwo.sort()\n",
    "    idxone=0\n",
    "    idxtwo=0\n",
    "    smallest = float(\"inf\")\n",
    "    current = float('inf')\n",
    "    smallestpair=[]\n",
    "    while idxone<len(arrayone) and idxtwo<len(arraytwo):\n",
    "        firstnum=arrayone[idxone]\n",
    "        secondnum = arraytwo[idxtwo]\n",
    "        if firstnum <secondnum:\n",
    "            current =secondnum-firstnum\n",
    "            idxone +=1\n",
    "        elif secondnum <firstnum:\n",
    "            current = firstnum-secondnum\n",
    "            idxtwo +=1\n",
    "        else:\n",
    "            return [firstnum, secondnum]\n",
    "        if smallest>current:\n",
    "            smallest =current\n",
    "            smallestpair = [firstnum, secondnum]\n",
    "    return smallestpair"
   ]
  },
  {
   "cell_type": "code",
   "execution_count": 6,
   "metadata": {},
   "outputs": [],
   "source": [
    "arrayone = [1,35,159,200,20000]\n",
    "arraytwo = [90, 900,250, 700, 34]"
   ]
  },
  {
   "cell_type": "code",
   "execution_count": 7,
   "metadata": {},
   "outputs": [
    {
     "name": "stdout",
     "output_type": "stream",
     "text": [
      "[35, 34]\n"
     ]
    }
   ],
   "source": [
    "print(smallestdifference(arrayone, arraytwo))"
   ]
  },
  {
   "cell_type": "code",
   "execution_count": null,
   "metadata": {},
   "outputs": [],
   "source": []
  }
 ],
 "metadata": {
  "kernelspec": {
   "display_name": "Python 3",
   "language": "python",
   "name": "python3"
  },
  "language_info": {
   "codemirror_mode": {
    "name": "ipython",
    "version": 3
   },
   "file_extension": ".py",
   "mimetype": "text/x-python",
   "name": "python",
   "nbconvert_exporter": "python",
   "pygments_lexer": "ipython3",
   "version": "3.8.5"
  }
 },
 "nbformat": 4,
 "nbformat_minor": 4
}
